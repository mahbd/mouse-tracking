{
 "cells": [
  {
   "cell_type": "code",
   "execution_count": 5,
   "id": "initial_id",
   "metadata": {
    "ExecuteTime": {
     "end_time": "2025-05-12T09:17:05.004927Z",
     "start_time": "2025-05-12T09:17:00.050856Z"
    },
    "collapsed": true
   },
   "outputs": [],
   "source": [
    "import os\n",
    "import glob\n",
    "import pandas as pd\n",
    "\n",
    "name = \"atiq\"\n",
    "folder_path = f'data/{name}'\n",
    "\n",
    "all_files = glob.glob(os.path.join(folder_path, \"*.csv\"))\n",
    "dfs = []\n",
    "for file in all_files:\n",
    "    df = pd.read_csv(file)\n",
    "    df.columns = df.columns.str.replace(\" \", \"\", regex=False)\n",
    "    if 'Name' not in df.columns:\n",
    "        df['Name'] = name\n",
    "    dfs.append(df)\n",
    "\n",
    "merged_df = pd.concat(dfs, ignore_index=True)\n",
    "# keep only last 1000 rows\n",
    "merged_df = merged_df.tail(1000)\n",
    "merged_df.to_csv(os.path.join(folder_path, f\"{name}.csv\"), index=False)"
   ]
  },
  {
   "cell_type": "code",
   "execution_count": 1,
   "id": "54b6eff1",
   "metadata": {
    "ExecuteTime": {
     "end_time": "2025-05-12T14:07:54.742202Z",
     "start_time": "2025-05-12T14:07:51.534641Z"
    }
   },
   "outputs": [],
   "source": [
    "import os\n",
    "import pandas as pd\n",
    "\n",
    "names = [\"atiq\", \"masum\", \"rakib\", \"zia\"]\n",
    "root_path = ''\n",
    "\n",
    "all_files = [os.path.join(root_path, name, f\"{name}.csv\") for name in names]\n",
    "\n",
    "dfs = []\n",
    "for file in all_files:\n",
    "    # only read up to 1_000_000 rows per file\n",
    "    df = pd.read_csv(file, nrows=1_000_000)\n",
    "    if 'Name' not in df.columns:\n",
    "        df['Name'] = os.path.basename(file).split('.')[0]\n",
    "    dfs.append(df)\n",
    "\n",
    "merged_df = pd.concat(dfs, ignore_index=True)\n",
    "merged_df.to_csv(os.path.join(root_path, \"merged_data.csv\"), index=False)"
   ]
  }
 ],
 "metadata": {
  "kernelspec": {
   "display_name": "research",
   "language": "python",
   "name": "python3"
  },
  "language_info": {
   "codemirror_mode": {
    "name": "ipython",
    "version": 3
   },
   "file_extension": ".py",
   "mimetype": "text/x-python",
   "name": "python",
   "nbconvert_exporter": "python",
   "pygments_lexer": "ipython3",
   "version": "3.12.9"
  }
 },
 "nbformat": 4,
 "nbformat_minor": 5
}
